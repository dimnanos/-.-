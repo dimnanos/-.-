{
  "nbformat": 4,
  "nbformat_minor": 0,
  "metadata": {
    "colab": {
      "provenance": [],
      "collapsed_sections": [],
      "include_colab_link": true
    },
    "kernelspec": {
      "name": "python3",
      "display_name": "Python 3"
    }
  },
  "cells": [
    {
      "cell_type": "markdown",
      "metadata": {
        "id": "view-in-github",
        "colab_type": "text"
      },
      "source": [
        "<a href=\"https://colab.research.google.com/github/dimnanos/-.-/blob/main/Python_excersises_01.ipynb\" target=\"_parent\"><img src=\"https://colab.research.google.com/assets/colab-badge.svg\" alt=\"Open In Colab\"/></a>"
      ]
    },
    {
      "cell_type": "markdown",
      "metadata": {
        "id": "fFkVqBx1AYCC"
      },
      "source": [
        "# Variables (Μεταβλητές)\n"
      ]
    },
    {
      "cell_type": "markdown",
      "metadata": {
        "id": "142DaUPuAjWg"
      },
      "source": [
        "Στο παρακάτω κελί θέστε μία μεταβλητή ίση με το όνομά σας, μία άλλη μεταβλητή ίση με το τηλέφωνό σας και εκτυπώστε με print το ονοματεπώνυμό σας και δίπλα το τηλεφωνό σας χρησιμοποιόντας τις δύο αυτές μεταβλητές"
      ]
    },
    {
      "cell_type": "code",
      "metadata": {
        "id": "5-kjp4lyA2LI",
        "outputId": "de5ce586-0d64-4bd4-cbbc-bf6ea47c08f0",
        "colab": {
          "base_uri": "https://localhost:8080/"
        }
      },
      "source": [
        "name = \"Dimitrios Nanos\"\n",
        "phone = \"6980909366\"\n",
        "print(name+\" \"+phone)"
      ],
      "execution_count": 2,
      "outputs": [
        {
          "output_type": "stream",
          "name": "stdout",
          "text": [
            "Dimitrios Nanos 6980909366\n"
          ]
        }
      ]
    },
    {
      "cell_type": "markdown",
      "metadata": {
        "id": "766mjy1BA3kk"
      },
      "source": [
        "Στο παρακάτω κελί θέστε μία μεταβλητή ίση με την 20. Στη συνέχεια προσθέστε σε αυτή τη μεταβλητή το 10 και εκτυπώστε την με print"
      ]
    },
    {
      "cell_type": "code",
      "metadata": {
        "id": "rSMirrfgAiik",
        "outputId": "0ac6f730-d24e-4aff-d90a-dab8a4b95e39",
        "colab": {
          "base_uri": "https://localhost:8080/"
        }
      },
      "source": [
        "x = 20\n",
        "x+=10\n",
        "print(x)"
      ],
      "execution_count": 3,
      "outputs": [
        {
          "output_type": "stream",
          "name": "stdout",
          "text": [
            "30\n"
          ]
        }
      ]
    },
    {
      "cell_type": "markdown",
      "metadata": {
        "id": "bOUqNz-HBJt5"
      },
      "source": [
        "# Lists (Arrays)"
      ]
    },
    {
      "cell_type": "markdown",
      "metadata": {
        "id": "uqL_E0C4BPKY"
      },
      "source": [
        "Στο παρακάτω κελί δημιουργείστε μία λίστα με 5 ακέραιους αριθμούς. Στη συνέχεια βρείτε το άθροισμα των μελών του. "
      ]
    },
    {
      "cell_type": "code",
      "metadata": {
        "id": "YPUVC4-VBNeW",
        "outputId": "9b8610d0-4451-42b3-bf92-b48f91bcf5c4",
        "colab": {
          "base_uri": "https://localhost:8080/"
        }
      },
      "source": [
        "my_lst = [1,2,35,67,26]\n",
        "print(sum(my_lst))"
      ],
      "execution_count": 4,
      "outputs": [
        {
          "output_type": "stream",
          "name": "stdout",
          "text": [
            "131\n"
          ]
        }
      ]
    },
    {
      "cell_type": "markdown",
      "metadata": {
        "id": "DyFdQDciES_g"
      },
      "source": [
        "Στην παραπάνω λίστα προσθέστε και ένα string, πχ το όνομά σας."
      ]
    },
    {
      "cell_type": "code",
      "metadata": {
        "id": "F4p-d1clEcS5"
      },
      "source": [
        "my_lst.append(\"Dimitrios Nanos\")"
      ],
      "execution_count": 5,
      "outputs": []
    },
    {
      "cell_type": "markdown",
      "metadata": {
        "id": "Ioe5KWQ0EmxM"
      },
      "source": [
        "# Loops (βρόχοι)"
      ]
    },
    {
      "cell_type": "markdown",
      "metadata": {
        "id": "biReCen8EsaJ"
      },
      "source": [
        "Εκτυπώστε όλες τις τιμές της λίστας που δημιουργείσατε στην παραπάνω άσκηση με τη χρήση της for"
      ]
    },
    {
      "cell_type": "code",
      "metadata": {
        "id": "RQ1k9yDSErtx",
        "outputId": "01f9715c-57c7-4d72-a97f-736d105aa725",
        "colab": {
          "base_uri": "https://localhost:8080/"
        }
      },
      "source": [
        "for i in my_lst:\n",
        "  print(i)"
      ],
      "execution_count": 11,
      "outputs": [
        {
          "output_type": "stream",
          "name": "stdout",
          "text": [
            "1\n",
            "2\n",
            "35\n",
            "67\n",
            "26\n",
            "Dimitrios Nanos\n"
          ]
        }
      ]
    },
    {
      "cell_type": "markdown",
      "metadata": {
        "id": "8zAdpUpME77S"
      },
      "source": [
        "Εκτυπώστε τους αριθμούς απο το 0 έως το 12 με τη βοήθεια της range"
      ]
    },
    {
      "cell_type": "code",
      "metadata": {
        "id": "9qD7NRWWFC_i",
        "outputId": "7f41eddc-d162-4484-aa8f-b07a5d355562",
        "colab": {
          "base_uri": "https://localhost:8080/"
        }
      },
      "source": [
        "for i in range(1,13):\n",
        "  print(i)"
      ],
      "execution_count": 12,
      "outputs": [
        {
          "output_type": "stream",
          "name": "stdout",
          "text": [
            "1\n",
            "2\n",
            "3\n",
            "4\n",
            "5\n",
            "6\n",
            "7\n",
            "8\n",
            "9\n",
            "10\n",
            "11\n",
            "12\n"
          ]
        }
      ]
    },
    {
      "cell_type": "markdown",
      "metadata": {
        "id": "taTyVnv7FEYL"
      },
      "source": [
        "Εκτυπώστες τους αριθμούς απο το 20 έως το 1 (20,19,18,...,1) με τη βοήθεια της range"
      ]
    },
    {
      "cell_type": "code",
      "metadata": {
        "id": "dvXCnQORFOD5",
        "outputId": "e52f9e21-e694-457f-b8d8-dd4b06a5632f",
        "colab": {
          "base_uri": "https://localhost:8080/"
        }
      },
      "source": [
        "for i in range(20,0,-1):\n",
        "    print(i)"
      ],
      "execution_count": 15,
      "outputs": [
        {
          "output_type": "stream",
          "name": "stdout",
          "text": [
            "20\n",
            "19\n",
            "18\n",
            "17\n",
            "16\n",
            "15\n",
            "14\n",
            "13\n",
            "12\n",
            "11\n",
            "10\n",
            "9\n",
            "8\n",
            "7\n",
            "6\n",
            "5\n",
            "4\n",
            "3\n",
            "2\n",
            "1\n"
          ]
        }
      ]
    },
    {
      "cell_type": "markdown",
      "metadata": {
        "id": "P_9RPs5vQHkO"
      },
      "source": [
        "# Boοleans (Λογικές τιμές)"
      ]
    },
    {
      "cell_type": "markdown",
      "metadata": {
        "id": "pN5j3Lj8QlFl"
      },
      "source": [
        "Εχουμε έναν αγνωστο αριθμό x. Γράψτε μία συνθήκη που να είναι αληθής αν ο αριθμός αυτός διαιρείτε ακριβώς με το 5 ΚΑΙ ειναι μικρότερος του 50"
      ]
    },
    {
      "cell_type": "code",
      "metadata": {
        "id": "HYwSuK_XQNKp",
        "outputId": "cfc248ae-1c63-4ee5-a941-1449a276d467",
        "colab": {
          "base_uri": "https://localhost:8080/"
        }
      },
      "source": [
        "x%5==0 and x<50"
      ],
      "execution_count": 18,
      "outputs": [
        {
          "output_type": "execute_result",
          "data": {
            "text/plain": [
              "True"
            ]
          },
          "metadata": {},
          "execution_count": 18
        }
      ]
    },
    {
      "cell_type": "markdown",
      "metadata": {
        "id": "5ESTWEOvRALW"
      },
      "source": [
        "Εχουμε έναν αγνωστο αριuμό x. Γράψτε μία συνθήκη που να είναι αληθής αν ο αριθμός ειναι μεγαλυτερος του 100 Ή διαιρείται ακριβώς με το 7"
      ]
    },
    {
      "cell_type": "code",
      "metadata": {
        "id": "4HEJKc7URRnc",
        "outputId": "b11c4253-5edb-4704-b83a-6b0501de2c9b",
        "colab": {
          "base_uri": "https://localhost:8080/"
        }
      },
      "source": [
        "x>100 or x%7==0"
      ],
      "execution_count": 20,
      "outputs": [
        {
          "output_type": "execute_result",
          "data": {
            "text/plain": [
              "False"
            ]
          },
          "metadata": {},
          "execution_count": 20
        }
      ]
    },
    {
      "cell_type": "markdown",
      "metadata": {
        "id": "euTtbh7KRg9x"
      },
      "source": [
        "# While"
      ]
    },
    {
      "cell_type": "markdown",
      "metadata": {
        "id": "L9XDBzq3Rqwu"
      },
      "source": [
        "Δημιουργείστε ένα while loop το οποιο θα ρωτάει το χρήστη να δώσει το αποτέλεσμα μιας πράξης (πχ 7x8) και να συνεχίσει να ρωτάει όσο ο χρήστης απαντάει λάθος. Όταν βγεί απο το while να του εμφανίσει το μήνυμα \"Σωστή απάντηση\" ή κάτι παρόμοιο"
      ]
    },
    {
      "cell_type": "code",
      "metadata": {
        "id": "tX-lIsVQRpr3",
        "colab": {
          "base_uri": "https://localhost:8080/"
        },
        "outputId": "27322350-5ef7-4583-e91a-845ac1715aa2"
      },
      "source": [
        "while True:\n",
        "  x = int(input(\"Δώσε σε μορφή ακεραίου το αποτέλεσμα της πράξης 7x8=  \"))\n",
        "  if x==56:\n",
        "    break\n",
        "  else:\n",
        "    print(\"Ξαναπροσπάθησε\")\n",
        "print(\"Σωστή απάντηση\")"
      ],
      "execution_count": 22,
      "outputs": [
        {
          "output_type": "stream",
          "name": "stdout",
          "text": [
            "Δώσε σε μορφή ακεραίου το αποτέλεσμα της πράξης 7x8=  54\n",
            "Ξαναπροσπάθησε\n",
            "Δώσε σε μορφή ακεραίου το αποτέλεσμα της πράξης 7x8=  76\n",
            "Ξαναπροσπάθησε\n",
            "Δώσε σε μορφή ακεραίου το αποτέλεσμα της πράξης 7x8=  56\n",
            "Σωστή απάντηση\n"
          ]
        }
      ]
    }
  ]
}